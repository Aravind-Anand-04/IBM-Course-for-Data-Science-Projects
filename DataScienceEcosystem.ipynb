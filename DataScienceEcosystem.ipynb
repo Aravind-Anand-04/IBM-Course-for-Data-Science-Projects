{
 "cells": [
  {
   "cell_type": "markdown",
   "id": "0cd90ac6-e898-4d96-9161-8be5a6487819",
   "metadata": {},
   "source": [
    "# Data Science Tools and Ecosystem"
   ]
  },
  {
   "cell_type": "markdown",
   "id": "c87e6502-2042-412e-8c01-11a0add89ab5",
   "metadata": {},
   "source": [
    "## Author\n",
    "Aravind Anand"
   ]
  },
  {
   "cell_type": "markdown",
   "id": "fd6dc658-550c-46dc-9a98-0ed199fbfbc1",
   "metadata": {},
   "source": [
    "In this notebook, Data Science Tools and Ecosystem are summarized."
   ]
  },
  {
   "cell_type": "markdown",
   "id": "52f19c67-31fb-48c5-8703-22f97914f327",
   "metadata": {},
   "source": [
    "**Objectives:**\n",
    "- List of popular languages for Data Scientists\n",
    "- List of commonly used libraries for Data Scientists\n",
    "- Examples of evaluating arithmetic expressions in Python"
   ]
  },
  {
   "cell_type": "markdown",
   "id": "8d8a43cd-1c5c-4c4a-8ff8-283f3ea48d82",
   "metadata": {},
   "source": [
    "Some of the popular languages that Data Scientists use are:\n",
    "1. Python\n",
    "2. R\n",
    "3. SQL"
   ]
  },
  {
   "cell_type": "markdown",
   "id": "29b75401-75b6-46ef-8af7-16c2dad8b648",
   "metadata": {},
   "source": [
    "Some of the commonly used libraries used by Data Scientists in the R language include:\n",
    "1. ggplot2\n",
    "2. stringr\n",
    "3. caret"
   ]
  },
  {
   "cell_type": "markdown",
   "id": "8fff981e-3b94-494a-994a-a36cbc0d0781",
   "metadata": {},
   "source": [
    "| Data Science Tools |\n",
    "|---|\n",
    "| Anaconda |\n",
    "| RStudio |\n",
    "| IBM Studio |"
   ]
  },
  {
   "cell_type": "markdown",
   "id": "cbc280a0-5385-4c99-aeb6-b1ba7d5636f0",
   "metadata": {},
   "source": [
    "### Below are a few examples of evaluating arithmetic expressions in Python:"
   ]
  },
  {
   "cell_type": "code",
   "execution_count": 4,
   "id": "ab2cedd7-f214-495a-b1af-56d2498f3ca6",
   "metadata": {},
   "outputs": [
    {
     "data": {
      "text/plain": [
       "17"
      ]
     },
     "execution_count": 4,
     "metadata": {},
     "output_type": "execute_result"
    }
   ],
   "source": [
    "(3*4)+5\n",
    "#This is a simple arithmetic expression to multiply then add integers"
   ]
  },
  {
   "cell_type": "code",
   "execution_count": 5,
   "id": "ce671091-6b9e-475a-92e1-2016e6f3dcff",
   "metadata": {},
   "outputs": [
    {
     "data": {
      "text/plain": [
       "3.3333333333333335"
      ]
     },
     "execution_count": 5,
     "metadata": {},
     "output_type": "execute_result"
    }
   ],
   "source": [
    "200/60\n",
    "#This will convert 200 minutes to hours by dividing by 60"
   ]
  },
  {
   "cell_type": "code",
   "execution_count": null,
   "id": "f614e6d4-dac7-4ab6-b5fa-9572488d12bb",
   "metadata": {},
   "outputs": [],
   "source": []
  }
 ],
 "metadata": {
  "kernelspec": {
   "display_name": "anaconda-panel-2023.05-py310",
   "language": "python",
   "name": "conda-env-anaconda-panel-2023.05-py310-py"
  },
  "language_info": {
   "codemirror_mode": {
    "name": "ipython",
    "version": 3
   },
   "file_extension": ".py",
   "mimetype": "text/x-python",
   "name": "python",
   "nbconvert_exporter": "python",
   "pygments_lexer": "ipython3",
   "version": "3.11.4"
  }
 },
 "nbformat": 4,
 "nbformat_minor": 5
}
